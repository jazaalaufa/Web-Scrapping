{
 "cells": [
  {
   "cell_type": "markdown",
   "metadata": {},
   "source": [
    "# WEB SCRAPING PADA WEBSITE TIKET.COM MENGGUNAKAN BEAUTIFULSOUP\n",
    "\n",
    "ANGGOTA KELOMPOK \n",
    "1. Fitrah Amaliah           (18051204007)\n",
    "2. Muhammad Jazaal Aufa     (18051204013)\n",
    "3. M. Fikri Rizki Romadhoni (18051204060)"
   ]
  },
  {
   "cell_type": "markdown",
   "metadata": {},
   "source": [
    "## PENGERTIAN\n",
    "**Web Scraping** adalah proses pengambilan data atau esktraksi dari sebuah website, yang kemudian datanya disimpan dalam sebuah format tertentu. Dalam bisnis, scraping biasanya dilakukan untuk memantau competitor bisnis tentang strategi yang digunakan.\n",
    "\n",
    "### Teknik Scrapping\n",
    "Secara umum, ada dua teknik yaitu : \n",
    "\n",
    "1.   Manual – teknik ini mengharuskan kita menyalin data dengan melakukan copy paste dari sebuah laman. \n",
    "2.   Otomatis – teknik ini menggunakan coding, aplikasi, hingga extension browser. Penggunaan Tool sekarang ini lebih digemari karena dapat melakukan scraping secara cepat.\n",
    "\n",
    "Teknik scrapping yang akan kami gunakan adalah **teknik parsing HTML**\n"
   ]
  },
  {
   "cell_type": "markdown",
   "metadata": {},
   "source": [
    "### Parsing HTML\n",
    "Parsing HTML adalah teknik yang menggunakan JavaScript untuk menargetkan halaman linear HTML dan nested HTML. Teknik parsing ini bisa dengan lebih cepat dalam melakukan identifikasi semua script HTML dari suatu halaman website. Selain itu teknik ini bisa melakukan ekstraksi file berupa text, data dan links tergantung dari kebutuhan. Kami menggunakan library **BeatifulSoup** untuk membantu dalam mengekstraksi file dalam format HTML\n",
    "\n",
    "### BeautifulSoup\n",
    "BeautifulSoup merupakan sebuah *Python Library* yang digunakan untuk melakukan ekstraksi file dengan format XML atau HTML. "
   ]
  },
  {
   "cell_type": "markdown",
   "metadata": {},
   "source": [
    "## EKSTRAKSI ELEMENT HTML DARI URL"
   ]
  },
  {
   "cell_type": "markdown",
   "metadata": {},
   "source": [
    "### Import Library\n",
    "Import seluruh library yang diperlukan, antara lain:\n",
    "\n",
    "1.   **request** - untuk melakukan request terhadap website tujuan kita (URL)\n",
    "2.   **BeautifulSoup** - library Python yang memungkinkan kita untuk melakukan scraping dengan mudah dan cepat.karena dapat\n",
    "3.   **csv** - library untuk menyimpan data url ke dalam file csv"
   ]
  },
  {
   "cell_type": "code",
   "execution_count": null,
   "metadata": {},
   "outputs": [],
   "source": [
    "import requests\n",
    "from bs4 import BeautifulSoup\n",
    "import csv"
   ]
  },
  {
   "cell_type": "markdown",
   "metadata": {},
   "source": [
    "### Request HTTP\n",
    "Dengan melakukan rquest kita bisa mengecek apakah website yang akan kita scraping dapat diakses. Pastikan status HTTP kodenya *200*-an. Kode tersebut berarti bahwa permintaan berhasil diterima, dipahami, dan diproses oleh server."
   ]
  },
  {
   "cell_type": "code",
   "execution_count": null,
   "metadata": {},
   "outputs": [],
   "source": [
    "url = 'https://www.tiket.com/hotel/indonesia/city/denpasar-108001534490277507'\n",
    "req = requests.get(url)"
   ]
  },
  {
   "cell_type": "markdown",
   "metadata": {},
   "source": [
    "### Inspect Element Website\n",
    "Karena kita akan melakukan parsing html, maka bisa menggunakan `html.parser` yang disediakan oleh Library BeautifulSoup. Kemudian untuk mengambil data dari halaman website kita dapat memanfaatkan elemen class/id atribut di HTML, caranya dengan inspeksi halaman. Class yang memuat elemen yang kita butuhkan, seperti nama hotel, lokasi, rating, harga dll ditampung pada Class `hotel-card seo-card`. Gunakan fungsi `findAll()` untuk melakukan iterasi di setiap kategori atau elemen yang ada pada class."
   ]
  },
  {
   "cell_type": "code",
   "execution_count": null,
   "metadata": {},
   "outputs": [],
   "source": [
    "soup   = BeautifulSoup(req.text, 'html.parser')\n",
    "hotels = soup.findAll('div', class_='hotel-card seo-card')"
   ]
  },
  {
   "cell_type": "code",
   "execution_count": null,
   "metadata": {},
   "outputs": [
    {
     "data": {
      "text/plain": [
       "<div class=\"hotel-card seo-card\" data='{\"position\":0,\"index\":0}'><a href=\"/hotel/indonesia/d-bali-residence-206001560358845958?checkin=2021-10-25&amp;checkout=2021-10-26&amp;room=1&amp;adult=1\" target=\"_blank\"><div class=\"image-wrap\"><img alt=\"D Bali Residence, Denpasar\" loading=\"lazy\" src=\"https://s-light.tiket.photos/t/01E25EBZS3W0FY9GTG6C42E1SE/t_htl-dskt/tix-hotel/images-web/2020/10/31/562786d8-dfaa-4878-9350-aaf70253fa7f-1604132042031-d4f67fe740d0e0cc38b2708d02d20340.jpg\"/></div><div class=\"data-wrap\"><h3 class=\"title ellipsis\">D Bali Residence</h3><div class=\"detail-container\"><div class=\"detail-wrap\"><div class=\"star-location\"><div class=\"star-wrap\"><i class=\"tix tixicon tixicon-star-full\"></i><i class=\"tix tixicon tixicon-star-full\"></i></div><div class=\"dot\"></div><div class=\"location ellipsis\">Denpasar Barat, Denpasar</div></div><div class=\"rating\"><div class=\"tiket-rating-wrap\"><div class=\"tiket-rating\">2.5</div><div class=\"tiket-impression\">Okay</div></div></div><div class=\"description\"><div class=\"line-clamp-2 description-content\">D Bali Residence terletak di Jalan Gunung Soputan bagian dari Kota Denpasar dan hanya 15 menit ke Kuta,...</div><span class=\"description-show-more\">Selengkapnya</span></div></div><div class=\"price-wrap\"><div class=\"after-price\">IDR<!-- --> <!-- -->194.400</div><div class=\"desc-price\">per kamar per malam</div></div></div></div></a></div>"
      ]
     },
     "execution_count": 286,
     "metadata": {},
     "output_type": "execute_result"
    }
   ],
   "source": [
    "hotels[0]"
   ]
  },
  {
   "cell_type": "markdown",
   "metadata": {},
   "source": [
    "### HTML menjadi Teks\n",
    "Salah satu elemen tersebut adalah `h3` yang memuat nama hotel. Outputkan ke dalam text."
   ]
  },
  {
   "cell_type": "code",
   "execution_count": null,
   "metadata": {},
   "outputs": [
    {
     "data": {
      "text/plain": [
       "'D Bali Residence'"
      ]
     },
     "execution_count": 287,
     "metadata": {},
     "output_type": "execute_result"
    }
   ],
   "source": [
    "hotels[0].find('h3').text"
   ]
  },
  {
   "cell_type": "markdown",
   "metadata": {},
   "source": [
    "Kemudian lakukan *looping* pada setiap elemen `h3` yang ada pada Class."
   ]
  },
  {
   "cell_type": "code",
   "execution_count": null,
   "metadata": {},
   "outputs": [],
   "source": [
    "hotel_items = [hotel.find('h3').text for hotel in hotels]"
   ]
  },
  {
   "cell_type": "markdown",
   "metadata": {},
   "source": [
    "Sehingga kita bisa menampilakan data nama hotel tersebut seperti di bawah ini"
   ]
  },
  {
   "cell_type": "code",
   "execution_count": null,
   "metadata": {},
   "outputs": [
    {
     "data": {
      "text/plain": [
       "['D Bali Residence',\n",
       " 'Hotel Intansari',\n",
       " 'Merak Lifestyle Hotel',\n",
       " 'Hotel Nikki Denpasar',\n",
       " 'Bali True Living Apartment',\n",
       " 'Mahatma Residence',\n",
       " 'Hotel Grand Santhi',\n",
       " 'Puri Saron Hotel Denpasar',\n",
       " 'Catur Adi Putra Hotel',\n",
       " 'Adikara Renon']"
      ]
     },
     "execution_count": 289,
     "metadata": {},
     "output_type": "execute_result"
    }
   ],
   "source": [
    "hotel_items[:10]"
   ]
  },
  {
   "cell_type": "markdown",
   "metadata": {},
   "source": [
    "## EKSTRAKSI SEMUA PAGE\n",
    "Karena webiste ini memiliki banyak page, maka kita perlu mendapatkan URL dari masing-masing page."
   ]
  },
  {
   "cell_type": "code",
   "execution_count": null,
   "metadata": {},
   "outputs": [],
   "source": [
    "base_url = 'https://www.tiket.com'\n",
    "url      = 'https://www.tiket.com/hotel/indonesia/city/denpasar-108001534490277507'"
   ]
  },
  {
   "cell_type": "code",
   "execution_count": null,
   "metadata": {},
   "outputs": [],
   "source": [
    "def get_pages(url):\n",
    "    req = requests.get(url)\n",
    "    soup = BeautifulSoup(req.text, 'html.parser')\n",
    "\n",
    "    return soup"
   ]
  },
  {
   "cell_type": "code",
   "execution_count": null,
   "metadata": {},
   "outputs": [],
   "source": [
    "soup = get_pages(url)"
   ]
  },
  {
   "cell_type": "markdown",
   "metadata": {},
   "source": [
    "Iterasi semua elemen `a` pada class `btn-pages` dalam website"
   ]
  },
  {
   "cell_type": "code",
   "execution_count": null,
   "metadata": {},
   "outputs": [
    {
     "data": {
      "text/plain": [
       "[<a class=\"btn-pages active\" href=\"/hotel/indonesia/city/denpasar-108001534490277507\">1</a>,\n",
       " <a class=\"btn-pages\" href=\"/hotel/indonesia/city/denpasar-108001534490277507/page-2\">2</a>,\n",
       " <a class=\"btn-pages\" href=\"/hotel/indonesia/city/denpasar-108001534490277507/page-3\">3</a>,\n",
       " <a class=\"btn-pages\" href=\"/hotel/indonesia/city/denpasar-108001534490277507/page-30\">30</a>]"
      ]
     },
     "execution_count": 293,
     "metadata": {},
     "output_type": "execute_result"
    }
   ],
   "source": [
    "pages = soup.findAll('a', class_='btn-pages')\n",
    "pages"
   ]
  },
  {
   "cell_type": "markdown",
   "metadata": {},
   "source": [
    "Lakukan looping untuk mendapatkan semua URL halaman website. Website memiliki 30 halaman "
   ]
  },
  {
   "cell_type": "code",
   "execution_count": null,
   "metadata": {},
   "outputs": [
    {
     "data": {
      "text/plain": [
       "['https://www.tiket.com/hotel/indonesia/city/denpasar-108001534490277507',\n",
       " 'https://www.tiket.com/hotel/indonesia/city/denpasar-108001534490277507/page-2',\n",
       " 'https://www.tiket.com/hotel/indonesia/city/denpasar-108001534490277507/page-3',\n",
       " 'https://www.tiket.com/hotel/indonesia/city/denpasar-108001534490277507/page-30']"
      ]
     },
     "execution_count": 294,
     "metadata": {},
     "output_type": "execute_result"
    }
   ],
   "source": [
    "pages_url = [base_url + page.attrs['href'] for page in pages]\n",
    "pages_url"
   ]
  },
  {
   "cell_type": "markdown",
   "metadata": {},
   "source": [
    "Kemudian lakukan iterasi menggunakan fungsi `findAll()` pada semua elemen yang memuat data yang dibutuhkan, seperti nama hotel, lokasi, harga, rating dsb. Elemen-elemen tersebut dimuat pada class `hotel-card seo-card`. Secara garis besar cara ini hampir sama dengan sebelumnya."
   ]
  },
  {
   "cell_type": "markdown",
   "metadata": {},
   "source": [
    "Untuk mengambil potongan kode HTML atau konten dari HTML gunakan fungsi `find()`. Fungsi `find()` akan mengambil data berdasarkan tag atau elemen HTML. Elemen `h3` untuk **nama hotel**"
   ]
  },
  {
   "cell_type": "code",
   "execution_count": null,
   "metadata": {},
   "outputs": [
    {
     "data": {
      "text/plain": [
       "'Bali True Living Apartment'"
      ]
     },
     "execution_count": 295,
     "metadata": {},
     "output_type": "execute_result"
    }
   ],
   "source": [
    "hotels = soup.findAll('div', class_='hotel-card seo-card')\n",
    "hotels[4].find('h3').text"
   ]
  },
  {
   "cell_type": "markdown",
   "metadata": {},
   "source": [
    "Elemen `div` dengan Class `after-price` untuk **harga hotel**"
   ]
  },
  {
   "cell_type": "code",
   "execution_count": null,
   "metadata": {},
   "outputs": [
    {
     "data": {
      "text/plain": [
       "'IDR 197.999'"
      ]
     },
     "execution_count": 296,
     "metadata": {},
     "output_type": "execute_result"
    }
   ],
   "source": [
    "hotels[4].find('div', class_='after-price').text"
   ]
  },
  {
   "cell_type": "markdown",
   "metadata": {},
   "source": [
    "Elemen `div` dengan Class `location` untuk **lokasi hotel**"
   ]
  },
  {
   "cell_type": "code",
   "execution_count": null,
   "metadata": {},
   "outputs": [
    {
     "data": {
      "text/plain": [
       "'Denpasar Barat, Denpasar'"
      ]
     },
     "execution_count": 297,
     "metadata": {},
     "output_type": "execute_result"
    }
   ],
   "source": [
    "hotels[4].find('div', class_='location').text"
   ]
  },
  {
   "cell_type": "markdown",
   "metadata": {},
   "source": [
    "Elemen `div` dengan Class `tiket-rating` untuk **rating hotel**"
   ]
  },
  {
   "cell_type": "code",
   "execution_count": null,
   "metadata": {},
   "outputs": [
    {
     "data": {
      "text/plain": [
       "'4.2'"
      ]
     },
     "execution_count": 298,
     "metadata": {},
     "output_type": "execute_result"
    }
   ],
   "source": [
    "hotels[4].find('div', class_='tiket-rating').text"
   ]
  },
  {
   "cell_type": "markdown",
   "metadata": {},
   "source": [
    "Berbeda dengan elemen lainnya, untuk mendapatkan gambar kita menggunakan elemen `src` "
   ]
  },
  {
   "cell_type": "code",
   "execution_count": null,
   "metadata": {},
   "outputs": [
    {
     "data": {
      "text/plain": [
       "'https://s-light.tiket.photos/t/01E25EBZS3W0FY9GTG6C42E1SE/t_htl-dskt/tix-hotel/images-web/2021/01/31/3d73eded-1125-49af-87c8-cea991061979-1612046442921-371153f0c7998b1f188917c6d9d47568.jpg'"
      ]
     },
     "execution_count": 299,
     "metadata": {},
     "output_type": "execute_result"
    }
   ],
   "source": [
    "hotels[4].find('img').attrs['src']"
   ]
  },
  {
   "cell_type": "markdown",
   "metadata": {},
   "source": [
    "## GABUNGKAN DATA SEMUA HALAMAN KE DALAM FORMAT CSV"
   ]
  },
  {
   "cell_type": "code",
   "execution_count": null,
   "metadata": {},
   "outputs": [],
   "source": [
    "def get_hotel(pages_url):\n",
    "    names = []\n",
    "    address = []\n",
    "    prices = []\n",
    "    ratings = []\n",
    "    images = []\n",
    "\n",
    "    # ekstrak elemen html di setiap page\n",
    "    for page in pages_url:\n",
    "        soup = get_pages(page)\n",
    "        hotels = soup.findAll('div', class_='hotel-card seo-card')\n",
    "        # get title\n",
    "        names = names + [hotel.find('h3').text for hotel in hotels]\n",
    "        # get location\n",
    "        address = address + [hotel.find('div', class_='location').text for hotel in hotels]\n",
    "        # get price\n",
    "        prices = prices + [hotel.find('div', class_='after-price').text if hotel.find('div', class_='after-price') != None else None for hotel in hotels]\n",
    "        # get rating\n",
    "        ratings = ratings + [hotel.find('div', class_='tiket-rating').text if hotel.find('div', class_='tiket-rating') != None else None for hotel in hotels]\n",
    "        # get image url\n",
    "        images = images + [hotel.find('img').attrs['src'] for hotel in hotels]\n",
    "\n",
    "    return {\n",
    "        'names'     : names,\n",
    "        'locations' : address,\n",
    "        'prices'    : prices,\n",
    "        'ratings'   : ratings,\n",
    "        'images'    : images\n",
    "    }"
   ]
  },
  {
   "cell_type": "markdown",
   "metadata": {},
   "source": [
    "Tampung hasil ekstraksi semua halaman ke dalam varibael `hotels_data`"
   ]
  },
  {
   "cell_type": "code",
   "execution_count": null,
   "metadata": {},
   "outputs": [],
   "source": [
    "hotels_data = get_hotel(pages_url)"
   ]
  },
  {
   "cell_type": "markdown",
   "metadata": {},
   "source": [
    "Ubah hasil ekstrasi ke dalam format .csv mengunakan **library pandas**"
   ]
  },
  {
   "cell_type": "code",
   "execution_count": null,
   "metadata": {},
   "outputs": [
    {
     "data": {
      "text/html": [
       "<div>\n",
       "<style scoped>\n",
       "    .dataframe tbody tr th:only-of-type {\n",
       "        vertical-align: middle;\n",
       "    }\n",
       "\n",
       "    .dataframe tbody tr th {\n",
       "        vertical-align: top;\n",
       "    }\n",
       "\n",
       "    .dataframe thead th {\n",
       "        text-align: right;\n",
       "    }\n",
       "</style>\n",
       "<table border=\"1\" class=\"dataframe\">\n",
       "  <thead>\n",
       "    <tr style=\"text-align: right;\">\n",
       "      <th></th>\n",
       "      <th>names</th>\n",
       "      <th>locations</th>\n",
       "      <th>prices</th>\n",
       "      <th>ratings</th>\n",
       "      <th>images</th>\n",
       "    </tr>\n",
       "  </thead>\n",
       "  <tbody>\n",
       "    <tr>\n",
       "      <th>0</th>\n",
       "      <td>D Bali Residence</td>\n",
       "      <td>Denpasar Barat, Denpasar</td>\n",
       "      <td>IDR 194.400</td>\n",
       "      <td>2.5</td>\n",
       "      <td>https://s-light.tiket.photos/t/01E25EBZS3W0FY9...</td>\n",
       "    </tr>\n",
       "    <tr>\n",
       "      <th>1</th>\n",
       "      <td>Hotel Intansari</td>\n",
       "      <td>Denpasar Barat, Denpasar</td>\n",
       "      <td>None</td>\n",
       "      <td>4.3</td>\n",
       "      <td>https://s-light.tiket.photos/t/01E25EBZS3W0FY9...</td>\n",
       "    </tr>\n",
       "    <tr>\n",
       "      <th>2</th>\n",
       "      <td>Merak Lifestyle Hotel</td>\n",
       "      <td>Denpasar Barat, Denpasar</td>\n",
       "      <td>None</td>\n",
       "      <td>None</td>\n",
       "      <td>https://s-light.tiket.photos/t/01E25EBZS3W0FY9...</td>\n",
       "    </tr>\n",
       "    <tr>\n",
       "      <th>3</th>\n",
       "      <td>Hotel Nikki Denpasar</td>\n",
       "      <td>Denpasar Utara, Denpasar</td>\n",
       "      <td>None</td>\n",
       "      <td>3.1</td>\n",
       "      <td>https://s-light.tiket.photos/t/01E25EBZS3W0FY9...</td>\n",
       "    </tr>\n",
       "    <tr>\n",
       "      <th>4</th>\n",
       "      <td>Bali True Living Apartment</td>\n",
       "      <td>Denpasar Barat, Denpasar</td>\n",
       "      <td>IDR 197.999</td>\n",
       "      <td>4.2</td>\n",
       "      <td>https://s-light.tiket.photos/t/01E25EBZS3W0FY9...</td>\n",
       "    </tr>\n",
       "    <tr>\n",
       "      <th>...</th>\n",
       "      <td>...</td>\n",
       "      <td>...</td>\n",
       "      <td>...</td>\n",
       "      <td>...</td>\n",
       "      <td>...</td>\n",
       "    </tr>\n",
       "    <tr>\n",
       "      <th>195</th>\n",
       "      <td>OYO 90671 Petanu Residence</td>\n",
       "      <td>Denpasar Selatan, Denpasar</td>\n",
       "      <td>IDR 134.973</td>\n",
       "      <td>None</td>\n",
       "      <td>https://s-light.tiket.photos/t/01E25EBZS3W0FY9...</td>\n",
       "    </tr>\n",
       "    <tr>\n",
       "      <th>196</th>\n",
       "      <td>Deluxe Room-Breakfast|WRWK</td>\n",
       "      <td>Kuta, Denpasar</td>\n",
       "      <td>None</td>\n",
       "      <td>None</td>\n",
       "      <td>https://s-light.tiket.photos/t/01E25EBZS3W0FY9...</td>\n",
       "    </tr>\n",
       "    <tr>\n",
       "      <th>197</th>\n",
       "      <td>AKAYA BALI</td>\n",
       "      <td>Denpasar Selatan, Denpasar</td>\n",
       "      <td>None</td>\n",
       "      <td>None</td>\n",
       "      <td></td>\n",
       "    </tr>\n",
       "    <tr>\n",
       "      <th>198</th>\n",
       "      <td>SPOT ON 90365 Rumah Kost Alor</td>\n",
       "      <td>Denpasar Barat, Denpasar</td>\n",
       "      <td>None</td>\n",
       "      <td>None</td>\n",
       "      <td></td>\n",
       "    </tr>\n",
       "    <tr>\n",
       "      <th>199</th>\n",
       "      <td>OYO 90456 Moh Yamin Residence</td>\n",
       "      <td>Denpasar Selatan, Denpasar</td>\n",
       "      <td>None</td>\n",
       "      <td>None</td>\n",
       "      <td></td>\n",
       "    </tr>\n",
       "  </tbody>\n",
       "</table>\n",
       "<p>200 rows × 5 columns</p>\n",
       "</div>"
      ],
      "text/plain": [
       "                             names                   locations       prices  \\\n",
       "0                 D Bali Residence    Denpasar Barat, Denpasar  IDR 194.400   \n",
       "1                  Hotel Intansari    Denpasar Barat, Denpasar         None   \n",
       "2            Merak Lifestyle Hotel    Denpasar Barat, Denpasar         None   \n",
       "3             Hotel Nikki Denpasar    Denpasar Utara, Denpasar         None   \n",
       "4       Bali True Living Apartment    Denpasar Barat, Denpasar  IDR 197.999   \n",
       "..                             ...                         ...          ...   \n",
       "195     OYO 90671 Petanu Residence  Denpasar Selatan, Denpasar  IDR 134.973   \n",
       "196     Deluxe Room-Breakfast|WRWK              Kuta, Denpasar         None   \n",
       "197                     AKAYA BALI  Denpasar Selatan, Denpasar         None   \n",
       "198  SPOT ON 90365 Rumah Kost Alor    Denpasar Barat, Denpasar         None   \n",
       "199  OYO 90456 Moh Yamin Residence  Denpasar Selatan, Denpasar         None   \n",
       "\n",
       "    ratings                                             images  \n",
       "0       2.5  https://s-light.tiket.photos/t/01E25EBZS3W0FY9...  \n",
       "1       4.3  https://s-light.tiket.photos/t/01E25EBZS3W0FY9...  \n",
       "2      None  https://s-light.tiket.photos/t/01E25EBZS3W0FY9...  \n",
       "3       3.1  https://s-light.tiket.photos/t/01E25EBZS3W0FY9...  \n",
       "4       4.2  https://s-light.tiket.photos/t/01E25EBZS3W0FY9...  \n",
       "..      ...                                                ...  \n",
       "195    None  https://s-light.tiket.photos/t/01E25EBZS3W0FY9...  \n",
       "196    None  https://s-light.tiket.photos/t/01E25EBZS3W0FY9...  \n",
       "197    None                                                     \n",
       "198    None                                                     \n",
       "199    None                                                     \n",
       "\n",
       "[200 rows x 5 columns]"
      ]
     },
     "execution_count": 302,
     "metadata": {},
     "output_type": "execute_result"
    }
   ],
   "source": [
    "import pandas as pd\n",
    "pd.DataFrame(hotels_data)"
   ]
  },
  {
   "cell_type": "code",
   "execution_count": null,
   "metadata": {},
   "outputs": [],
   "source": [
    "df= pd.DataFrame(hotels_data)\n",
    "df.to_csv('denpasar_hotels.csv', index=False, encoding=\"utf-8\")"
   ]
  }
 ],
 "metadata": {
  "interpreter": {
   "hash": "2647ea34e536f865ab67ff9ddee7fd78773d956cec0cab53c79b32cd10da5d83"
  },
  "kernelspec": {
   "display_name": "Python 3.9.7 64-bit",
   "name": "python3"
  },
  "language_info": {
   "codemirror_mode": {
    "name": "ipython",
    "version": 3
   },
   "file_extension": ".py",
   "mimetype": "text/x-python",
   "name": "python",
   "nbconvert_exporter": "python",
   "pygments_lexer": "ipython3",
   "version": "3.9.7"
  },
  "orig_nbformat": 4
 },
 "nbformat": 4,
 "nbformat_minor": 2
}
